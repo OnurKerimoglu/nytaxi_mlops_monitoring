{
 "cells": [
  {
   "cell_type": "markdown",
   "id": "7e9557a7",
   "metadata": {},
   "source": [
    "# DataTalks.Club MLOps-zoomcamp HW5 solutions"
   ]
  },
  {
   "cell_type": "markdown",
   "id": "79799530",
   "metadata": {},
   "source": [
    "## Q1: \n",
    "In March 2024 Green Taxi data, there are 57457 rows. \n",
    "\n",
    "Solution:"
   ]
  },
  {
   "cell_type": "code",
   "execution_count": 1,
   "id": "dde94fb8",
   "metadata": {},
   "outputs": [],
   "source": [
    "import os \n",
    "\n",
    "import datetime\n",
    "import requests\n",
    "import pandas as pd\n",
    "from joblib import load\n",
    "from tqdm import tqdm\n",
    "from sklearn.metrics import mean_absolute_error"
   ]
  },
  {
   "cell_type": "code",
   "execution_count": 2,
   "id": "42d49cdd",
   "metadata": {},
   "outputs": [
    {
     "name": "stdout",
     "output_type": "stream",
     "text": [
      "Downloading data\n"
     ]
    }
   ],
   "source": [
    "files = [\n",
    "    ('green_tripdata_2024-03.parquet', '../data'),\n",
    "]\n",
    "\n",
    "print(\"Downloading data\")\n",
    "for file, path in files:\n",
    "    url=f\"https://d37ci6vzurychx.cloudfront.net/trip-data/{file}\"\n",
    "    resp=requests.get(url, stream=True)\n",
    "    save_path=f\"{path}/{file}\"\n",
    "    if os.path.exists(save_path):\n",
    "        continue\n",
    "    with open(save_path, \"wb\") as handle:\n",
    "        for data in tqdm(resp.iter_content(),\n",
    "                        desc=f\"{file}\",\n",
    "                        postfix=f\"save to {save_path}\",\n",
    "                        total=int(resp.headers[\"Content-Length\"])):\n",
    "            handle.write(data)"
   ]
  },
  {
   "cell_type": "code",
   "execution_count": 3,
   "id": "c0feaa49",
   "metadata": {},
   "outputs": [
    {
     "data": {
      "text/plain": [
       "57457"
      ]
     },
     "execution_count": 3,
     "metadata": {},
     "output_type": "execute_result"
    }
   ],
   "source": [
    "test_data = pd.read_parquet('../data/green_tripdata_2024-03.parquet')\n",
    "test_data.shape[0]"
   ]
  },
  {
   "cell_type": "markdown",
   "id": "8bb6dea7",
   "metadata": {},
   "source": [
    "## Q2\n",
    "\n",
    "I chose DatasetSummaryMetric, and I added ColumnQuantileMetric for fare_amount, as requested (see below the answer for Q3)"
   ]
  },
  {
   "cell_type": "markdown",
   "id": "699a43f3",
   "metadata": {},
   "source": [
    "## Q3\n",
    "\n",
    "The max daily 0.5 quantile fare_amount is 14.2, as shown seen in the dashboard I created with March 2024 data: \n",
    "\n",
    "![../images/mlops_05_q3_fare_amount.png](../images/mlops_05_q3_fare_amount.png)\n",
    "\n",
    "I created this dashboard using the script: [../evidently_metrics_calculation_hw.py](../evidently_metrics_calculation_hw.py).\n",
    "\n"
   ]
  },
  {
   "cell_type": "markdown",
   "id": "6ca30ef1",
   "metadata": {},
   "source": [
    "## Q4\n",
    "\n",
    "The json configuration (e.g, data_drift.json) is saved under 05-monitoring/dashboards folder, as I did, eg., for the homework dashboard: [../dashboards/data_drift_hw.json](../dashboards/data_drift_hw.json)"
   ]
  }
 ],
 "metadata": {
  "kernelspec": {
   "display_name": ".venv",
   "language": "python",
   "name": "python3"
  },
  "language_info": {
   "codemirror_mode": {
    "name": "ipython",
    "version": 3
   },
   "file_extension": ".py",
   "mimetype": "text/x-python",
   "name": "python",
   "nbconvert_exporter": "python",
   "pygments_lexer": "ipython3",
   "version": "3.11.1"
  }
 },
 "nbformat": 4,
 "nbformat_minor": 5
}
